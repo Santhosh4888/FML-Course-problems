{
 "cells": [
  {
   "cell_type": "code",
   "execution_count": 1,
   "id": "2abe1df5",
   "metadata": {},
   "outputs": [
    {
     "ename": "AttributeError",
     "evalue": "module 'Data_generation' has no attribute 'x_train'",
     "output_type": "error",
     "traceback": [
      "\u001b[1;31m---------------------------------------------------------------------------\u001b[0m",
      "\u001b[1;31mAttributeError\u001b[0m                            Traceback (most recent call last)",
      "Cell \u001b[1;32mIn[1], line 9\u001b[0m\n\u001b[0;32m      6\u001b[0m \u001b[38;5;28;01mimport\u001b[39;00m\u001b[38;5;250m \u001b[39m\u001b[38;5;21;01mData_generation\u001b[39;00m\n\u001b[0;32m      8\u001b[0m \u001b[38;5;66;03m# Assuming these variables are defined in data_generation.ipynb\u001b[39;00m\n\u001b[1;32m----> 9\u001b[0m x_train \u001b[38;5;241m=\u001b[39m \u001b[43mData_generation\u001b[49m\u001b[38;5;241;43m.\u001b[39;49m\u001b[43mx_train\u001b[49m\n\u001b[0;32m     10\u001b[0m y_train \u001b[38;5;241m=\u001b[39m Data_generation\u001b[38;5;241m.\u001b[39my_train\n\u001b[0;32m     11\u001b[0m x_test \u001b[38;5;241m=\u001b[39m Data_generation\u001b[38;5;241m.\u001b[39mx_test\n",
      "\u001b[1;31mAttributeError\u001b[0m: module 'Data_generation' has no attribute 'x_train'"
     ]
    }
   ],
   "source": [
    "import numpy as np\n",
    "import matplotlib.pyplot as plt\n",
    "from sklearn.preprocessing import PolynomialFeatures\n",
    "from sklearn.metrics import mean_squared_error\n",
    "import nbimporter\n",
    "import Data_generation\n",
    "\n",
    "# Assuming these variables are defined in data_generation.ipynb\n",
    "x_train = Data_generation.x_train\n",
    "y_train = Data_generation.y_train\n",
    "x_test = Data_generation.x_test\n",
    "y_test = Data_generation.y_test\n",
    "x_true = Data_generation.x_true\n",
    "y_true = Data_generation.y_true\n",
    "\n",
    "def polynomial_ridge_regression(X, y, X_test, y_test, degree, lambda_val):\n",
    "    # Create polynomial features\n",
    "    poly = PolynomialFeatures(degree)\n",
    "    X_poly = poly.fit_transform(X.reshape(-1, 1))\n",
    "    X_test_poly = poly.transform(X_test.reshape(-1, 1))\n",
    "\n",
    "    # (ii) Closed-form solution for ridge regression \n",
    "    w = np.linalg.solve(X_poly.T @ X_poly + lambda_val * np.eye(X_poly.shape[1]), X_poly.T @ y)\n",
    "    y_train_pred = X_poly @ w\n",
    "    y_test_pred = X_test_poly @ w\n",
    "    train_mse = mean_squared_error(y, y_train_pred)\n",
    "    test_mse = mean_squared_error(y_test, y_test_pred)\n",
    "    return w, poly, train_mse,  test_mse\n",
    "\n",
    "    \n",
    "\n",
    "# (iii) Experiment with different lambda values\n",
    "lambda_values = [0.1, 0.01, 0.0001]\n",
    "degree = 6\n",
    "\n",
    "plt.figure(figsize=(15, 5))\n",
    "for i, lambda_val in enumerate(lambda_values):\n",
    "    w, poly, train_mse, test_mse = polynomial_ridge_regression(x_train, y_train, x_test, y_test, degree, lambda_val)\n",
    "\n",
    "    X_true_poly = poly.transform(x_true.reshape(-1, 1))\n",
    "    y_true_pred = X_true_poly @ w\n",
    "\n",
    "    plt.subplot(1, 3, i+1)\n",
    "    plt.scatter(x_train, y_train, color='red', alpha=0.5, label='Training Data')\n",
    "    plt.scatter(x_test, y_test, color='green', alpha=0.5, label='Test Data')\n",
    "    plt.plot(x_true, y_true, color='yellow', label='True Function')\n",
    "    plt.plot(x_true, y_true_pred, color='Violet', label='Predicted Function')\n",
    "    plt.title(f'λ = {lambda_val}\\nTrain MSE: {train_mse:.4f}, Test MSE: {test_mse:.4f}')\n",
    "    plt.legend()\n",
    "    plt.xlabel('x')\n",
    "    plt.ylabel('y')\n",
    "\n",
    "plt.tight_layout()\n",
    "plt.show()"
   ]
  },
  {
   "cell_type": "code",
   "execution_count": null,
   "id": "00b38665",
   "metadata": {},
   "outputs": [
    {
     "ename": "NameError",
     "evalue": "name 'x_train' is not defined",
     "output_type": "error",
     "traceback": [
      "\u001b[1;31m---------------------------------------------------------------------------\u001b[0m",
      "\u001b[1;31mNameError\u001b[0m                                 Traceback (most recent call last)",
      "Cell \u001b[1;32mIn[8], line 7\u001b[0m\n\u001b[0;32m      5\u001b[0m plt\u001b[38;5;241m.\u001b[39mfigure(figsize\u001b[38;5;241m=\u001b[39m(\u001b[38;5;241m15\u001b[39m, \u001b[38;5;241m5\u001b[39m))\n\u001b[0;32m      6\u001b[0m \u001b[38;5;28;01mfor\u001b[39;00m i, lambda_val \u001b[38;5;129;01min\u001b[39;00m \u001b[38;5;28menumerate\u001b[39m(lambda_values):\n\u001b[1;32m----> 7\u001b[0m     w, poly, train_mse, test_mse \u001b[38;5;241m=\u001b[39m polynomial_ridge_regression(\u001b[43mx_train\u001b[49m, y_train, x_test, y_test, degree, lambda_val)\n\u001b[0;32m      9\u001b[0m     X_true_poly \u001b[38;5;241m=\u001b[39m poly\u001b[38;5;241m.\u001b[39mtransform(x_true\u001b[38;5;241m.\u001b[39mreshape(\u001b[38;5;241m-\u001b[39m\u001b[38;5;241m1\u001b[39m, \u001b[38;5;241m1\u001b[39m))\n\u001b[0;32m     10\u001b[0m     y_true_pred \u001b[38;5;241m=\u001b[39m X_true_poly \u001b[38;5;241m@\u001b[39m w\n",
      "\u001b[1;31mNameError\u001b[0m: name 'x_train' is not defined"
     ]
    },
    {
     "data": {
      "text/plain": [
       "<Figure size 1500x500 with 0 Axes>"
      ]
     },
     "metadata": {},
     "output_type": "display_data"
    }
   ],
   "source": []
  }
 ],
 "metadata": {
  "kernelspec": {
   "display_name": "Python 3",
   "language": "python",
   "name": "python3"
  },
  "language_info": {
   "codemirror_mode": {
    "name": "ipython",
    "version": 3
   },
   "file_extension": ".py",
   "mimetype": "text/x-python",
   "name": "python",
   "nbconvert_exporter": "python",
   "pygments_lexer": "ipython3",
   "version": "3.10.11"
  }
 },
 "nbformat": 4,
 "nbformat_minor": 5
}
